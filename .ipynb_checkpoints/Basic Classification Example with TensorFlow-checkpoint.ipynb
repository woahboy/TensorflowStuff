{
 "cells": [
  {
   "cell_type": "code",
   "execution_count": 30,
   "metadata": {
    "collapsed": true,
    "deletable": true,
    "editable": true
   },
   "outputs": [],
   "source": [
    "# Baisc Classification Example with TensorFlow\n",
    "# This notebook is a companion of \"A Visual and Interactive Guide to the Basics of Neural Networks\"\n",
    "\n",
    "'''This is an example of how to do classification on a simple dataset in TensorFlow. Basically we're building\n",
    "    a model to help a friend choose a house to buy. She has given us a table of houses and whether she likes them\n",
    "    or not. We're to build a model that takes a house are and a number of bathrooms as input, and outputs a prediction\n",
    "    of whether she would like the house or not'''\n",
    "\n",
    "# We'll start by loading our favorite libraries\n",
    "\n",
    "%matplotlib inline               \n",
    "import pandas as pd              # A beautiful library to help us work with data as tables\n",
    "import numpy as np               # So we can use number matrices. Both pandas and TensorFlow need it. \n",
    "import matplotlib.pyplot as plt  # Visualize the things\n",
    "import tensorflow as tf          # Fire from the gods"
   ]
  },
  {
   "cell_type": "code",
   "execution_count": 31,
   "metadata": {
    "collapsed": false,
    "deletable": true,
    "editable": true
   },
   "outputs": [
    {
     "data": {
      "text/html": [
       "<div>\n",
       "<table border=\"1\" class=\"dataframe\">\n",
       "  <thead>\n",
       "    <tr style=\"text-align: right;\">\n",
       "      <th></th>\n",
       "      <th>area</th>\n",
       "      <th>bathrooms</th>\n",
       "    </tr>\n",
       "  </thead>\n",
       "  <tbody>\n",
       "    <tr>\n",
       "      <th>0</th>\n",
       "      <td>2104.0</td>\n",
       "      <td>3.0</td>\n",
       "    </tr>\n",
       "    <tr>\n",
       "      <th>1</th>\n",
       "      <td>1600.0</td>\n",
       "      <td>3.0</td>\n",
       "    </tr>\n",
       "    <tr>\n",
       "      <th>2</th>\n",
       "      <td>2400.0</td>\n",
       "      <td>3.0</td>\n",
       "    </tr>\n",
       "    <tr>\n",
       "      <th>3</th>\n",
       "      <td>1416.0</td>\n",
       "      <td>2.0</td>\n",
       "    </tr>\n",
       "    <tr>\n",
       "      <th>4</th>\n",
       "      <td>3000.0</td>\n",
       "      <td>4.0</td>\n",
       "    </tr>\n",
       "    <tr>\n",
       "      <th>5</th>\n",
       "      <td>1985.0</td>\n",
       "      <td>4.0</td>\n",
       "    </tr>\n",
       "    <tr>\n",
       "      <th>6</th>\n",
       "      <td>1534.0</td>\n",
       "      <td>3.0</td>\n",
       "    </tr>\n",
       "    <tr>\n",
       "      <th>7</th>\n",
       "      <td>1427.0</td>\n",
       "      <td>3.0</td>\n",
       "    </tr>\n",
       "    <tr>\n",
       "      <th>8</th>\n",
       "      <td>1380.0</td>\n",
       "      <td>3.0</td>\n",
       "    </tr>\n",
       "    <tr>\n",
       "      <th>9</th>\n",
       "      <td>1494.0</td>\n",
       "      <td>3.0</td>\n",
       "    </tr>\n",
       "  </tbody>\n",
       "</table>\n",
       "</div>"
      ],
      "text/plain": [
       "     area  bathrooms\n",
       "0  2104.0        3.0\n",
       "1  1600.0        3.0\n",
       "2  2400.0        3.0\n",
       "3  1416.0        2.0\n",
       "4  3000.0        4.0\n",
       "5  1985.0        4.0\n",
       "6  1534.0        3.0\n",
       "7  1427.0        3.0\n",
       "8  1380.0        3.0\n",
       "9  1494.0        3.0"
      ]
     },
     "execution_count": 31,
     "metadata": {},
     "output_type": "execute_result"
    }
   ],
   "source": [
    "\"\"\"We'll then load the house data CSV. Pandas is an incredible library that gives us great flexibility in dealing\n",
    "    with table-like data. We load tables (or csv files, or excel sheets) into a \"data frame\", and process it however\n",
    "    we like. You can think of it as a programmatic way to do a lot of the things you previously did with Excel\"\"\"\n",
    "\n",
    "dataframe = pd.read_csv(\"data.csv\") # Let's have Pandas Load our dataset as a dataframe\n",
    "dataframe = dataframe.drop([\"index\", \"price\", \"sq_price\"], axis=1) # Remove colums we don't care about\n",
    "dataframe = dataframe[0:10] #We'll only use the first 10 rows of the dataset in this example\n",
    "dataframe # Let's have the notebook show us how the dataframe looks now"
   ]
  },
  {
   "cell_type": "code",
   "execution_count": 32,
   "metadata": {
    "collapsed": false
   },
   "outputs": [
    {
     "data": {
      "text/html": [
       "<div>\n",
       "<table border=\"1\" class=\"dataframe\">\n",
       "  <thead>\n",
       "    <tr style=\"text-align: right;\">\n",
       "      <th></th>\n",
       "      <th>area</th>\n",
       "      <th>bathrooms</th>\n",
       "      <th>y1</th>\n",
       "      <th>y2</th>\n",
       "    </tr>\n",
       "  </thead>\n",
       "  <tbody>\n",
       "    <tr>\n",
       "      <th>0</th>\n",
       "      <td>2104.0</td>\n",
       "      <td>3.0</td>\n",
       "      <td>1</td>\n",
       "      <td>0</td>\n",
       "    </tr>\n",
       "    <tr>\n",
       "      <th>1</th>\n",
       "      <td>1600.0</td>\n",
       "      <td>3.0</td>\n",
       "      <td>1</td>\n",
       "      <td>0</td>\n",
       "    </tr>\n",
       "    <tr>\n",
       "      <th>2</th>\n",
       "      <td>2400.0</td>\n",
       "      <td>3.0</td>\n",
       "      <td>1</td>\n",
       "      <td>0</td>\n",
       "    </tr>\n",
       "    <tr>\n",
       "      <th>3</th>\n",
       "      <td>1416.0</td>\n",
       "      <td>2.0</td>\n",
       "      <td>0</td>\n",
       "      <td>1</td>\n",
       "    </tr>\n",
       "    <tr>\n",
       "      <th>4</th>\n",
       "      <td>3000.0</td>\n",
       "      <td>4.0</td>\n",
       "      <td>0</td>\n",
       "      <td>1</td>\n",
       "    </tr>\n",
       "    <tr>\n",
       "      <th>5</th>\n",
       "      <td>1985.0</td>\n",
       "      <td>4.0</td>\n",
       "      <td>1</td>\n",
       "      <td>0</td>\n",
       "    </tr>\n",
       "    <tr>\n",
       "      <th>6</th>\n",
       "      <td>1534.0</td>\n",
       "      <td>3.0</td>\n",
       "      <td>0</td>\n",
       "      <td>1</td>\n",
       "    </tr>\n",
       "    <tr>\n",
       "      <th>7</th>\n",
       "      <td>1427.0</td>\n",
       "      <td>3.0</td>\n",
       "      <td>1</td>\n",
       "      <td>0</td>\n",
       "    </tr>\n",
       "    <tr>\n",
       "      <th>8</th>\n",
       "      <td>1380.0</td>\n",
       "      <td>3.0</td>\n",
       "      <td>1</td>\n",
       "      <td>0</td>\n",
       "    </tr>\n",
       "    <tr>\n",
       "      <th>9</th>\n",
       "      <td>1494.0</td>\n",
       "      <td>3.0</td>\n",
       "      <td>1</td>\n",
       "      <td>0</td>\n",
       "    </tr>\n",
       "  </tbody>\n",
       "</table>\n",
       "</div>"
      ],
      "text/plain": [
       "     area  bathrooms  y1  y2\n",
       "0  2104.0        3.0   1   0\n",
       "1  1600.0        3.0   1   0\n",
       "2  2400.0        3.0   1   0\n",
       "3  1416.0        2.0   0   1\n",
       "4  3000.0        4.0   0   1\n",
       "5  1985.0        4.0   1   0\n",
       "6  1534.0        3.0   0   1\n",
       "7  1427.0        3.0   1   0\n",
       "8  1380.0        3.0   1   0\n",
       "9  1494.0        3.0   1   0"
      ]
     },
     "execution_count": 32,
     "metadata": {},
     "output_type": "execute_result"
    }
   ],
   "source": [
    "# The dataframe now only has the features. Let's introduce the labels\n",
    "\n",
    "\n",
    "dataframe.loc[:, (\"y1\")] = [1,1,1,0,0,1,0,1,1,1]        # This is our friend's list of which houses she liked\n",
    "                                                        # 1 = good, 0 = bad    \n",
    "dataframe.loc[:, (\"y2\")] = dataframe[\"y1\"] == 0         # y2 is the negation of y1\n",
    "dataframe.loc[:, (\"y2\")] = dataframe[\"y2\"].astype(int)  # Turn TRUE/FALSE values into 1/0\n",
    "# y2 means we don't like a house\n",
    "# (Yes, it's redundant. But Learning to do it this way opens the door to Multiclass classification)\n",
    "dataframe # How is our dataframe looking now?"
   ]
  },
  {
   "cell_type": "code",
   "execution_count": 33,
   "metadata": {
    "collapsed": false
   },
   "outputs": [],
   "source": [
    "# Now that we have all our data in the dataframe, we'll need to shape it in matrices to feed it to TensorFlow\n",
    "\n",
    "inputX = dataframe.loc[:, ['area', 'bathrooms']].as_matrix()\n",
    "inputY  = dataframe.loc[:, [\"y1\",\"y2\"]].as_matrix()"
   ]
  },
  {
   "cell_type": "code",
   "execution_count": 34,
   "metadata": {
    "collapsed": false
   },
   "outputs": [
    {
     "data": {
      "text/plain": [
       "array([[  2.10400000e+03,   3.00000000e+00],\n",
       "       [  1.60000000e+03,   3.00000000e+00],\n",
       "       [  2.40000000e+03,   3.00000000e+00],\n",
       "       [  1.41600000e+03,   2.00000000e+00],\n",
       "       [  3.00000000e+03,   4.00000000e+00],\n",
       "       [  1.98500000e+03,   4.00000000e+00],\n",
       "       [  1.53400000e+03,   3.00000000e+00],\n",
       "       [  1.42700000e+03,   3.00000000e+00],\n",
       "       [  1.38000000e+03,   3.00000000e+00],\n",
       "       [  1.49400000e+03,   3.00000000e+00]])"
      ]
     },
     "execution_count": 34,
     "metadata": {},
     "output_type": "execute_result"
    }
   ],
   "source": [
    "# So now our input looks like this:\n",
    "\n",
    "inputX"
   ]
  },
  {
   "cell_type": "code",
   "execution_count": 35,
   "metadata": {
    "collapsed": false
   },
   "outputs": [
    {
     "data": {
      "text/plain": [
       "array([[1, 0],\n",
       "       [1, 0],\n",
       "       [1, 0],\n",
       "       [0, 1],\n",
       "       [0, 1],\n",
       "       [1, 0],\n",
       "       [0, 1],\n",
       "       [1, 0],\n",
       "       [1, 0],\n",
       "       [1, 0]], dtype=int64)"
      ]
     },
     "execution_count": 35,
     "metadata": {},
     "output_type": "execute_result"
    }
   ],
   "source": [
    "# And our labels look like this:\n",
    "\n",
    "inputY"
   ]
  },
  {
   "cell_type": "code",
   "execution_count": 36,
   "metadata": {
    "collapsed": false
   },
   "outputs": [],
   "source": [
    "# Let's prepare some parameters for the training process\n",
    "\n",
    "# Parameters\n",
    "learning_rate = 0.000001\n",
    "training_epochs = 2000\n",
    "display_step = 50\n",
    "n_samples = inputY.size"
   ]
  },
  {
   "cell_type": "code",
   "execution_count": 37,
   "metadata": {
    "collapsed": false
   },
   "outputs": [],
   "source": [
    "'''And now to define the TensorFlow operations. Notice that this is a declaration step where we tell TensorFlow how the\n",
    "    prediction is calculated. If we execute it, no calculation would be made. It would just acknowledge that it now \n",
    "    knows how to do the operation'''\n",
    "\n",
    "x = tf.placeholder(tf.float32, [None, 2])   # Okay Tensorflow, we'll feed you an array fo examples, each example will \n",
    "                                            # be an array of two float values (area, and number of bathrooms).\n",
    "                                            # 'None' means we can feed you any number of examples\n",
    "                                            # Notice we haven't fed it the values yet\n",
    "\n",
    "W = tf.Variable(tf.zeros([2, 2]))           # Maintain a 2 x 2 float matrix for the weights that we'll keep updating\n",
    "                                            # through the training process (make them all zero to begin with)\n",
    "    \n",
    "b = tf.Variable(tf.zeros([2]))              # Also maintain two bias values\n",
    "\n",
    "y_values = tf.add(tf.matmul(x,W), b)        # The first step in calculating the prediction would be to multiply the \n",
    "                                            # the inputs by the weights matrix and then add the biases\n",
    "    \n",
    "y = tf.nn.softmax(y_values)                 # Then we use softmax as an \"activation function\" that translates numbers\n",
    "                                            # outputted by the previous layer into probability for m\n",
    "    \n",
    "y_ = tf.placeholder(tf.float32, [None, 2])  # For training purposes, we'll also feed you a matrix of labels"
   ]
  },
  {
   "cell_type": "code",
   "execution_count": 38,
   "metadata": {
    "collapsed": true
   },
   "outputs": [],
   "source": [
    "# Let's specify our cost function and use Gradient Descent\n",
    "\n",
    "# Cost function: Mean squared error\n",
    "cost = tf.reduce_sum(tf.pow(y_ - y, 2))/(2*n_samples)\n",
    "# Gradient descent \n",
    "optimizer = tf.train.GradientDescentOptimizer(learning_rate).minimize(cost)"
   ]
  },
  {
   "cell_type": "code",
   "execution_count": 39,
   "metadata": {
    "collapsed": false
   },
   "outputs": [],
   "source": [
    "#Initialize variables and tensorflow session\n",
    "init = tf.global_variables_initializer()\n",
    "sess = tf.Session()\n",
    "sess.run(init)"
   ]
  },
  {
   "cell_type": "code",
   "execution_count": 40,
   "metadata": {
    "collapsed": false
   },
   "outputs": [
    {
     "name": "stdout",
     "output_type": "stream",
     "text": [
      "Training step: 0000 cost= 0.114958666\n",
      "Training step: 0050 cost= 0.109539941\n",
      "Training step: 0100 cost= 0.109539866\n",
      "Training step: 0150 cost= 0.109539807\n",
      "Training step: 0200 cost= 0.109539732\n",
      "Training step: 0250 cost= 0.109539673\n",
      "Training step: 0300 cost= 0.109539606\n",
      "Training step: 0350 cost= 0.109539531\n",
      "Training step: 0400 cost= 0.109539464\n",
      "Training step: 0450 cost= 0.109539405\n",
      "Training step: 0500 cost= 0.109539315\n",
      "Training step: 0550 cost= 0.109539248\n",
      "Training step: 0600 cost= 0.109539196\n",
      "Training step: 0650 cost= 0.109539129\n",
      "Training step: 0700 cost= 0.109539054\n",
      "Training step: 0750 cost= 0.109538987\n",
      "Training step: 0800 cost= 0.109538913\n",
      "Training step: 0850 cost= 0.109538853\n",
      "Training step: 0900 cost= 0.109538779\n",
      "Training step: 0950 cost= 0.109538712\n",
      "Training step: 1000 cost= 0.109538652\n",
      "Training step: 1050 cost= 0.109538577\n",
      "Training step: 1100 cost= 0.109538510\n",
      "Training step: 1150 cost= 0.109538436\n",
      "Training step: 1200 cost= 0.109538361\n",
      "Training step: 1250 cost= 0.109538302\n",
      "Training step: 1300 cost= 0.109538235\n",
      "Training step: 1350 cost= 0.109538175\n",
      "Training step: 1400 cost= 0.109538101\n",
      "Training step: 1450 cost= 0.109538034\n",
      "Training step: 1500 cost= 0.109537959\n",
      "Training step: 1550 cost= 0.109537885\n",
      "Training step: 1600 cost= 0.109537825\n",
      "Training step: 1650 cost= 0.109537765\n",
      "Training step: 1700 cost= 0.109537683\n",
      "Training step: 1750 cost= 0.109537624\n",
      "Training step: 1800 cost= 0.109537557\n",
      "Training step: 1850 cost= 0.109537482\n",
      "Training step: 1900 cost= 0.109537408\n",
      "Training step: 1950 cost= 0.109537348\n",
      "Optimization Finished!\n",
      "Training cost= 0.109537 W= [[  2.14149564e-04  -2.14149914e-04]\n",
      " [  5.12748193e-05  -5.12747974e-05]] b= [  1.19155184e-05  -1.19155284e-05] \n",
      "\n"
     ]
    }
   ],
   "source": [
    "# Drum Roll\n",
    "\n",
    "# And now for the actual training\n",
    "\n",
    "for i in range(training_epochs):\n",
    "    sess.run(optimizer, feed_dict={x: inputX, y_: inputY}) # Take a gradient descent step using our inputs and labels\n",
    "    \n",
    "    # That's all! The rest of the cell just outputs debug messages.\n",
    "    # Display logs per epoch step\n",
    "    if (i) % display_step == 0:\n",
    "        cc = sess.run(cost, feed_dict={x: inputX, y_: inputY})\n",
    "        print(\"Training step:\", '%04d' % (i), \"cost=\", \"{:.9f}\".format(cc)) #, \\\"W=\", sess.run(W), \"b=\", sess.run(b)\n",
    "        \n",
    "print(\"Optimization Finished!\")\n",
    "training_cost = sess.run(cost, feed_dict={x: inputX, y_: inputY})\n",
    "print(\"Training cost=\", training_cost, \"W=\", sess.run(W), \"b=\", sess.run(b), '\\n')"
   ]
  },
  {
   "cell_type": "code",
   "execution_count": 41,
   "metadata": {
    "collapsed": false
   },
   "outputs": [
    {
     "data": {
      "text/plain": [
       "array([[ 0.71125221,  0.28874779],\n",
       "       [ 0.66498977,  0.33501023],\n",
       "       [ 0.73657656,  0.26342347],\n",
       "       [ 0.64718789,  0.35281211],\n",
       "       [ 0.78335613,  0.2166439 ],\n",
       "       [ 0.70069474,  0.29930523],\n",
       "       [ 0.65866327,  0.34133676],\n",
       "       [ 0.64828628,  0.35171372],\n",
       "       [ 0.64368278,  0.35631716],\n",
       "       [ 0.65480113,  0.3451989 ]], dtype=float32)"
      ]
     },
     "execution_count": 41,
     "metadata": {},
     "output_type": "execute_result"
    }
   ],
   "source": [
    "'''Now the training is done. TensorFlow is not holding on to our trained model (Which is basically just the defined\n",
    "    operations, plus the variables W and b that resulted from the training process).\n",
    "    \n",
    "    Is a cost value of 0.109537 good or bad? I have no idea. At least it's better that the first cost value of \n",
    "    0.114958666. Let's use the model on our dataset to see how it does though:'''\n",
    "\n",
    "sess.run(y, feed_dict={x: inputX})"
   ]
  },
  {
   "cell_type": "code",
   "execution_count": 43,
   "metadata": {
    "collapsed": false
   },
   "outputs": [
    {
     "data": {
      "text/plain": [
       "array([ 0.26894143,  0.7310586 ], dtype=float32)"
      ]
     },
     "execution_count": 43,
     "metadata": {},
     "output_type": "execute_result"
    }
   ],
   "source": [
    "'''So it's guessing that they're all good houses. That makes it get 7/10 correct. Not terribly impressive. A model with \n",
    "    a hidden layer should do better, I guess'''\n",
    "\n",
    "# Btw, this is how I calculated the softmax values in the post:\n",
    "sess.run(tf.nn.softmax([1., 2.]))"
   ]
  },
  {
   "cell_type": "code",
   "execution_count": null,
   "metadata": {
    "collapsed": true
   },
   "outputs": [],
   "source": []
  }
 ],
 "metadata": {
  "kernelspec": {
   "display_name": "Python 3",
   "language": "python",
   "name": "python3"
  },
  "language_info": {
   "codemirror_mode": {
    "name": "ipython",
    "version": 3
   },
   "file_extension": ".py",
   "mimetype": "text/x-python",
   "name": "python",
   "nbconvert_exporter": "python",
   "pygments_lexer": "ipython3",
   "version": "3.5.2"
  }
 },
 "nbformat": 4,
 "nbformat_minor": 2
}
